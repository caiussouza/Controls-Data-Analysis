{
  "nbformat": 4,
  "nbformat_minor": 0,
  "metadata": {
    "colab": {
      "provenance": [],
      "authorship_tag": "ABX9TyPuuvlZCEeWdWI9cIvjgOJQ",
      "include_colab_link": true
    },
    "kernelspec": {
      "name": "python3",
      "display_name": "Python 3"
    },
    "language_info": {
      "name": "python"
    }
  },
  "cells": [
    {
      "cell_type": "markdown",
      "metadata": {
        "id": "view-in-github",
        "colab_type": "text"
      },
      "source": [
        "<a href=\"https://colab.research.google.com/github/caiussouza/Controls-Data-Analysis/blob/main/Exemplo_de_an%C3%A1lise_do_IMU_do_celular.ipynb\" target=\"_parent\"><img src=\"https://colab.research.google.com/assets/colab-badge.svg\" alt=\"Open In Colab\"/></a>"
      ]
    },
    {
      "cell_type": "markdown",
      "source": [
        "# Exemplo de análise baseada num teste aleatório do acelerômetro de um celular\n",
        "## Os arquivos contendo dados (datasets) devem ser carregados no repositório no GitHub: https://github.com/caiussouza/Controls-Data-Analysis"
      ],
      "metadata": {
        "id": "wasKQUM1nhmw"
      }
    },
    {
      "cell_type": "markdown",
      "source": [
        "Inclusão das bibliotecas para análise de dados\n",
        "\n",
        "\n",
        "*   **pandas** - operações com dataframes\n",
        "*   **matplotlib** - visualização gráfica dos dados\n",
        "\n"
      ],
      "metadata": {
        "id": "oiYMKAaeLo1I"
      }
    },
    {
      "cell_type": "code",
      "execution_count": null,
      "metadata": {
        "id": "tQwpxN5ljgmh"
      },
      "outputs": [],
      "source": [
        "import pandas as pd\n",
        "import matplotlib.pyplot as plt"
      ]
    },
    {
      "cell_type": "markdown",
      "source": [
        "Inclusão do dataset a partir do repositório no Github\n",
        "\n",
        "* Entre no repositório\n",
        "\n",
        "https://github.com/caiussouza/Controls-Data-Analysis\n",
        "* Clique no arquivo a ser lido. No exemplo, é o \"primeira_analise.csv\"\n",
        "* Clique em \"Raw\" e copie a url. No exemplo, é\n",
        "\n",
        "https://raw.githubusercontent.com/caiussouza/Controls-Data-Analysis/main/primeira_analise.csv\n",
        "* Utilize o método .read_csv('INSIRA URL')\n",
        "\n",
        "\n"
      ],
      "metadata": {
        "id": "wkf8jWrGL8Rp"
      }
    },
    {
      "cell_type": "code",
      "source": [
        "url_dataframe = 'https://raw.githubusercontent.com/caiussouza/Controls-Data-Analysis/main/primeira_analise.csv'\n",
        "teste = pd.read_csv(url_dataframe)"
      ],
      "metadata": {
        "id": "laM-ajdi4LlC"
      },
      "execution_count": null,
      "outputs": []
    },
    {
      "cell_type": "markdown",
      "source": [
        "Visualizando o resumo do dataset\n",
        "\n",
        "Exemplos:\n",
        "\n",
        "*   **teste.info()** - exibe informações sobre o dataframe, incluindo o número de linhas e colunas, nomes e tipos de dados das colunas e o uso de memória.\n",
        "*   **teste.head()** - exibe as 5 primeiras linhas\n",
        "*   **teste.describe()** - exibe informações estatísticas sobre o dataframe, como médias, desvios padrões\n",
        "\n"
      ],
      "metadata": {
        "id": "vSA9uISiM5vq"
      }
    },
    {
      "cell_type": "code",
      "source": [
        "teste.info()"
      ],
      "metadata": {
        "id": "WUYAwIqPplAr",
        "colab": {
          "base_uri": "https://localhost:8080/"
        },
        "outputId": "0f568f31-bbd0-4ab1-9c96-df4d775b8ce3"
      },
      "execution_count": null,
      "outputs": [
        {
          "output_type": "stream",
          "name": "stdout",
          "text": [
            "<class 'pandas.core.frame.DataFrame'>\n",
            "RangeIndex: 21315 entries, 0 to 21314\n",
            "Data columns (total 5 columns):\n",
            " #   Column  Non-Null Count  Dtype  \n",
            "---  ------  --------------  -----  \n",
            " 0   time    21315 non-null  float64\n",
            " 1   gFx     21315 non-null  float64\n",
            " 2   gFy     21315 non-null  float64\n",
            " 3   gFz     21315 non-null  float64\n",
            " 4   TgF     21315 non-null  float64\n",
            "dtypes: float64(5)\n",
            "memory usage: 832.7 KB\n"
          ]
        }
      ]
    },
    {
      "cell_type": "code",
      "source": [
        "teste.head()"
      ],
      "metadata": {
        "colab": {
          "base_uri": "https://localhost:8080/",
          "height": 206
        },
        "id": "mo5XWNWNOwFV",
        "outputId": "e7e54621-cc57-4235-d73c-87b6487c80bf"
      },
      "execution_count": null,
      "outputs": [
        {
          "output_type": "execute_result",
          "data": {
            "text/plain": [
              "       time     gFx     gFy     gFz    TgF\n",
              "0  1.705532  0.0034  0.0112  1.0257  1.026\n",
              "1  1.708314  0.0029  0.0117  1.0264  1.026\n",
              "2  1.710482  0.0034  0.0107  1.0232  1.023\n",
              "3  1.712854  0.0056  0.0122  1.0217  1.022\n",
              "4  1.714592  0.0032  0.0120  1.0210  1.021"
            ],
            "text/html": [
              "\n",
              "  <div id=\"df-441c74bf-5bbc-4828-bd22-02b2670d4e28\">\n",
              "    <div class=\"colab-df-container\">\n",
              "      <div>\n",
              "<style scoped>\n",
              "    .dataframe tbody tr th:only-of-type {\n",
              "        vertical-align: middle;\n",
              "    }\n",
              "\n",
              "    .dataframe tbody tr th {\n",
              "        vertical-align: top;\n",
              "    }\n",
              "\n",
              "    .dataframe thead th {\n",
              "        text-align: right;\n",
              "    }\n",
              "</style>\n",
              "<table border=\"1\" class=\"dataframe\">\n",
              "  <thead>\n",
              "    <tr style=\"text-align: right;\">\n",
              "      <th></th>\n",
              "      <th>time</th>\n",
              "      <th>gFx</th>\n",
              "      <th>gFy</th>\n",
              "      <th>gFz</th>\n",
              "      <th>TgF</th>\n",
              "    </tr>\n",
              "  </thead>\n",
              "  <tbody>\n",
              "    <tr>\n",
              "      <th>0</th>\n",
              "      <td>1.705532</td>\n",
              "      <td>0.0034</td>\n",
              "      <td>0.0112</td>\n",
              "      <td>1.0257</td>\n",
              "      <td>1.026</td>\n",
              "    </tr>\n",
              "    <tr>\n",
              "      <th>1</th>\n",
              "      <td>1.708314</td>\n",
              "      <td>0.0029</td>\n",
              "      <td>0.0117</td>\n",
              "      <td>1.0264</td>\n",
              "      <td>1.026</td>\n",
              "    </tr>\n",
              "    <tr>\n",
              "      <th>2</th>\n",
              "      <td>1.710482</td>\n",
              "      <td>0.0034</td>\n",
              "      <td>0.0107</td>\n",
              "      <td>1.0232</td>\n",
              "      <td>1.023</td>\n",
              "    </tr>\n",
              "    <tr>\n",
              "      <th>3</th>\n",
              "      <td>1.712854</td>\n",
              "      <td>0.0056</td>\n",
              "      <td>0.0122</td>\n",
              "      <td>1.0217</td>\n",
              "      <td>1.022</td>\n",
              "    </tr>\n",
              "    <tr>\n",
              "      <th>4</th>\n",
              "      <td>1.714592</td>\n",
              "      <td>0.0032</td>\n",
              "      <td>0.0120</td>\n",
              "      <td>1.0210</td>\n",
              "      <td>1.021</td>\n",
              "    </tr>\n",
              "  </tbody>\n",
              "</table>\n",
              "</div>\n",
              "      <button class=\"colab-df-convert\" onclick=\"convertToInteractive('df-441c74bf-5bbc-4828-bd22-02b2670d4e28')\"\n",
              "              title=\"Convert this dataframe to an interactive table.\"\n",
              "              style=\"display:none;\">\n",
              "        \n",
              "  <svg xmlns=\"http://www.w3.org/2000/svg\" height=\"24px\"viewBox=\"0 0 24 24\"\n",
              "       width=\"24px\">\n",
              "    <path d=\"M0 0h24v24H0V0z\" fill=\"none\"/>\n",
              "    <path d=\"M18.56 5.44l.94 2.06.94-2.06 2.06-.94-2.06-.94-.94-2.06-.94 2.06-2.06.94zm-11 1L8.5 8.5l.94-2.06 2.06-.94-2.06-.94L8.5 2.5l-.94 2.06-2.06.94zm10 10l.94 2.06.94-2.06 2.06-.94-2.06-.94-.94-2.06-.94 2.06-2.06.94z\"/><path d=\"M17.41 7.96l-1.37-1.37c-.4-.4-.92-.59-1.43-.59-.52 0-1.04.2-1.43.59L10.3 9.45l-7.72 7.72c-.78.78-.78 2.05 0 2.83L4 21.41c.39.39.9.59 1.41.59.51 0 1.02-.2 1.41-.59l7.78-7.78 2.81-2.81c.8-.78.8-2.07 0-2.86zM5.41 20L4 18.59l7.72-7.72 1.47 1.35L5.41 20z\"/>\n",
              "  </svg>\n",
              "      </button>\n",
              "      \n",
              "  <style>\n",
              "    .colab-df-container {\n",
              "      display:flex;\n",
              "      flex-wrap:wrap;\n",
              "      gap: 12px;\n",
              "    }\n",
              "\n",
              "    .colab-df-convert {\n",
              "      background-color: #E8F0FE;\n",
              "      border: none;\n",
              "      border-radius: 50%;\n",
              "      cursor: pointer;\n",
              "      display: none;\n",
              "      fill: #1967D2;\n",
              "      height: 32px;\n",
              "      padding: 0 0 0 0;\n",
              "      width: 32px;\n",
              "    }\n",
              "\n",
              "    .colab-df-convert:hover {\n",
              "      background-color: #E2EBFA;\n",
              "      box-shadow: 0px 1px 2px rgba(60, 64, 67, 0.3), 0px 1px 3px 1px rgba(60, 64, 67, 0.15);\n",
              "      fill: #174EA6;\n",
              "    }\n",
              "\n",
              "    [theme=dark] .colab-df-convert {\n",
              "      background-color: #3B4455;\n",
              "      fill: #D2E3FC;\n",
              "    }\n",
              "\n",
              "    [theme=dark] .colab-df-convert:hover {\n",
              "      background-color: #434B5C;\n",
              "      box-shadow: 0px 1px 3px 1px rgba(0, 0, 0, 0.15);\n",
              "      filter: drop-shadow(0px 1px 2px rgba(0, 0, 0, 0.3));\n",
              "      fill: #FFFFFF;\n",
              "    }\n",
              "  </style>\n",
              "\n",
              "      <script>\n",
              "        const buttonEl =\n",
              "          document.querySelector('#df-441c74bf-5bbc-4828-bd22-02b2670d4e28 button.colab-df-convert');\n",
              "        buttonEl.style.display =\n",
              "          google.colab.kernel.accessAllowed ? 'block' : 'none';\n",
              "\n",
              "        async function convertToInteractive(key) {\n",
              "          const element = document.querySelector('#df-441c74bf-5bbc-4828-bd22-02b2670d4e28');\n",
              "          const dataTable =\n",
              "            await google.colab.kernel.invokeFunction('convertToInteractive',\n",
              "                                                     [key], {});\n",
              "          if (!dataTable) return;\n",
              "\n",
              "          const docLinkHtml = 'Like what you see? Visit the ' +\n",
              "            '<a target=\"_blank\" href=https://colab.research.google.com/notebooks/data_table.ipynb>data table notebook</a>'\n",
              "            + ' to learn more about interactive tables.';\n",
              "          element.innerHTML = '';\n",
              "          dataTable['output_type'] = 'display_data';\n",
              "          await google.colab.output.renderOutput(dataTable, element);\n",
              "          const docLink = document.createElement('div');\n",
              "          docLink.innerHTML = docLinkHtml;\n",
              "          element.appendChild(docLink);\n",
              "        }\n",
              "      </script>\n",
              "    </div>\n",
              "  </div>\n",
              "  "
            ]
          },
          "metadata": {},
          "execution_count": 165
        }
      ]
    },
    {
      "cell_type": "code",
      "source": [
        "teste.describe()"
      ],
      "metadata": {
        "id": "pb3fmuxcpoBe",
        "colab": {
          "base_uri": "https://localhost:8080/",
          "height": 300
        },
        "outputId": "015f606c-1af9-4a70-d046-02e88f697f62"
      },
      "execution_count": null,
      "outputs": [
        {
          "output_type": "execute_result",
          "data": {
            "text/plain": [
              "               time           gFx           gFy          gFz           TgF\n",
              "count  21315.000000  21315.000000  21315.000000  21315.00000  21315.000000\n",
              "mean      23.004232      0.209873      0.338987      0.51574      1.019970\n",
              "std       12.303106      0.451904      0.421310      0.51733      0.184212\n",
              "min        1.705532     -5.877500     -5.027100     -5.84550      0.075000\n",
              "25%       12.349646     -0.022500      0.015900      0.02390      0.997000\n",
              "50%       23.008690      0.000500      0.169600      0.52530      1.004000\n",
              "75%       33.656736      0.360300      0.795400      1.01760      1.025000\n",
              "max       44.311132      8.009500      5.122400      7.58750     10.075000"
            ],
            "text/html": [
              "\n",
              "  <div id=\"df-964a29fe-c0b9-48f9-9f09-84013658ef98\">\n",
              "    <div class=\"colab-df-container\">\n",
              "      <div>\n",
              "<style scoped>\n",
              "    .dataframe tbody tr th:only-of-type {\n",
              "        vertical-align: middle;\n",
              "    }\n",
              "\n",
              "    .dataframe tbody tr th {\n",
              "        vertical-align: top;\n",
              "    }\n",
              "\n",
              "    .dataframe thead th {\n",
              "        text-align: right;\n",
              "    }\n",
              "</style>\n",
              "<table border=\"1\" class=\"dataframe\">\n",
              "  <thead>\n",
              "    <tr style=\"text-align: right;\">\n",
              "      <th></th>\n",
              "      <th>time</th>\n",
              "      <th>gFx</th>\n",
              "      <th>gFy</th>\n",
              "      <th>gFz</th>\n",
              "      <th>TgF</th>\n",
              "    </tr>\n",
              "  </thead>\n",
              "  <tbody>\n",
              "    <tr>\n",
              "      <th>count</th>\n",
              "      <td>21315.000000</td>\n",
              "      <td>21315.000000</td>\n",
              "      <td>21315.000000</td>\n",
              "      <td>21315.00000</td>\n",
              "      <td>21315.000000</td>\n",
              "    </tr>\n",
              "    <tr>\n",
              "      <th>mean</th>\n",
              "      <td>23.004232</td>\n",
              "      <td>0.209873</td>\n",
              "      <td>0.338987</td>\n",
              "      <td>0.51574</td>\n",
              "      <td>1.019970</td>\n",
              "    </tr>\n",
              "    <tr>\n",
              "      <th>std</th>\n",
              "      <td>12.303106</td>\n",
              "      <td>0.451904</td>\n",
              "      <td>0.421310</td>\n",
              "      <td>0.51733</td>\n",
              "      <td>0.184212</td>\n",
              "    </tr>\n",
              "    <tr>\n",
              "      <th>min</th>\n",
              "      <td>1.705532</td>\n",
              "      <td>-5.877500</td>\n",
              "      <td>-5.027100</td>\n",
              "      <td>-5.84550</td>\n",
              "      <td>0.075000</td>\n",
              "    </tr>\n",
              "    <tr>\n",
              "      <th>25%</th>\n",
              "      <td>12.349646</td>\n",
              "      <td>-0.022500</td>\n",
              "      <td>0.015900</td>\n",
              "      <td>0.02390</td>\n",
              "      <td>0.997000</td>\n",
              "    </tr>\n",
              "    <tr>\n",
              "      <th>50%</th>\n",
              "      <td>23.008690</td>\n",
              "      <td>0.000500</td>\n",
              "      <td>0.169600</td>\n",
              "      <td>0.52530</td>\n",
              "      <td>1.004000</td>\n",
              "    </tr>\n",
              "    <tr>\n",
              "      <th>75%</th>\n",
              "      <td>33.656736</td>\n",
              "      <td>0.360300</td>\n",
              "      <td>0.795400</td>\n",
              "      <td>1.01760</td>\n",
              "      <td>1.025000</td>\n",
              "    </tr>\n",
              "    <tr>\n",
              "      <th>max</th>\n",
              "      <td>44.311132</td>\n",
              "      <td>8.009500</td>\n",
              "      <td>5.122400</td>\n",
              "      <td>7.58750</td>\n",
              "      <td>10.075000</td>\n",
              "    </tr>\n",
              "  </tbody>\n",
              "</table>\n",
              "</div>\n",
              "      <button class=\"colab-df-convert\" onclick=\"convertToInteractive('df-964a29fe-c0b9-48f9-9f09-84013658ef98')\"\n",
              "              title=\"Convert this dataframe to an interactive table.\"\n",
              "              style=\"display:none;\">\n",
              "        \n",
              "  <svg xmlns=\"http://www.w3.org/2000/svg\" height=\"24px\"viewBox=\"0 0 24 24\"\n",
              "       width=\"24px\">\n",
              "    <path d=\"M0 0h24v24H0V0z\" fill=\"none\"/>\n",
              "    <path d=\"M18.56 5.44l.94 2.06.94-2.06 2.06-.94-2.06-.94-.94-2.06-.94 2.06-2.06.94zm-11 1L8.5 8.5l.94-2.06 2.06-.94-2.06-.94L8.5 2.5l-.94 2.06-2.06.94zm10 10l.94 2.06.94-2.06 2.06-.94-2.06-.94-.94-2.06-.94 2.06-2.06.94z\"/><path d=\"M17.41 7.96l-1.37-1.37c-.4-.4-.92-.59-1.43-.59-.52 0-1.04.2-1.43.59L10.3 9.45l-7.72 7.72c-.78.78-.78 2.05 0 2.83L4 21.41c.39.39.9.59 1.41.59.51 0 1.02-.2 1.41-.59l7.78-7.78 2.81-2.81c.8-.78.8-2.07 0-2.86zM5.41 20L4 18.59l7.72-7.72 1.47 1.35L5.41 20z\"/>\n",
              "  </svg>\n",
              "      </button>\n",
              "      \n",
              "  <style>\n",
              "    .colab-df-container {\n",
              "      display:flex;\n",
              "      flex-wrap:wrap;\n",
              "      gap: 12px;\n",
              "    }\n",
              "\n",
              "    .colab-df-convert {\n",
              "      background-color: #E8F0FE;\n",
              "      border: none;\n",
              "      border-radius: 50%;\n",
              "      cursor: pointer;\n",
              "      display: none;\n",
              "      fill: #1967D2;\n",
              "      height: 32px;\n",
              "      padding: 0 0 0 0;\n",
              "      width: 32px;\n",
              "    }\n",
              "\n",
              "    .colab-df-convert:hover {\n",
              "      background-color: #E2EBFA;\n",
              "      box-shadow: 0px 1px 2px rgba(60, 64, 67, 0.3), 0px 1px 3px 1px rgba(60, 64, 67, 0.15);\n",
              "      fill: #174EA6;\n",
              "    }\n",
              "\n",
              "    [theme=dark] .colab-df-convert {\n",
              "      background-color: #3B4455;\n",
              "      fill: #D2E3FC;\n",
              "    }\n",
              "\n",
              "    [theme=dark] .colab-df-convert:hover {\n",
              "      background-color: #434B5C;\n",
              "      box-shadow: 0px 1px 3px 1px rgba(0, 0, 0, 0.15);\n",
              "      filter: drop-shadow(0px 1px 2px rgba(0, 0, 0, 0.3));\n",
              "      fill: #FFFFFF;\n",
              "    }\n",
              "  </style>\n",
              "\n",
              "      <script>\n",
              "        const buttonEl =\n",
              "          document.querySelector('#df-964a29fe-c0b9-48f9-9f09-84013658ef98 button.colab-df-convert');\n",
              "        buttonEl.style.display =\n",
              "          google.colab.kernel.accessAllowed ? 'block' : 'none';\n",
              "\n",
              "        async function convertToInteractive(key) {\n",
              "          const element = document.querySelector('#df-964a29fe-c0b9-48f9-9f09-84013658ef98');\n",
              "          const dataTable =\n",
              "            await google.colab.kernel.invokeFunction('convertToInteractive',\n",
              "                                                     [key], {});\n",
              "          if (!dataTable) return;\n",
              "\n",
              "          const docLinkHtml = 'Like what you see? Visit the ' +\n",
              "            '<a target=\"_blank\" href=https://colab.research.google.com/notebooks/data_table.ipynb>data table notebook</a>'\n",
              "            + ' to learn more about interactive tables.';\n",
              "          element.innerHTML = '';\n",
              "          dataTable['output_type'] = 'display_data';\n",
              "          await google.colab.output.renderOutput(dataTable, element);\n",
              "          const docLink = document.createElement('div');\n",
              "          docLink.innerHTML = docLinkHtml;\n",
              "          element.appendChild(docLink);\n",
              "        }\n",
              "      </script>\n",
              "    </div>\n",
              "  </div>\n",
              "  "
            ]
          },
          "metadata": {},
          "execution_count": 166
        }
      ]
    },
    {
      "cell_type": "markdown",
      "source": [
        "Adiciona o \"time\" como índice do dataframe e transforma para um formato Tempo que pode ser processado e \"resampleado\""
      ],
      "metadata": {
        "id": "0tuQI2oZpsSi"
      }
    },
    {
      "cell_type": "code",
      "source": [
        "time_offset = pd.Timestamp('00:00:00')"
      ],
      "metadata": {
        "id": "pfvNT_dzYwbc"
      },
      "execution_count": null,
      "outputs": []
    },
    {
      "cell_type": "code",
      "source": [
        "teste_time = teste.time"
      ],
      "metadata": {
        "id": "YzbGjNw4ZAVB"
      },
      "execution_count": null,
      "outputs": []
    },
    {
      "cell_type": "code",
      "source": [
        "teste_time = time_offset + pd.to_timedelta(teste['time'], unit='s')\n",
        "teste.time = teste_time"
      ],
      "metadata": {
        "id": "NKzCUbDRZMBR"
      },
      "execution_count": null,
      "outputs": []
    },
    {
      "cell_type": "code",
      "source": [
        "teste_resampled = teste.set_index('time')\n",
        "\n"
      ],
      "metadata": {
        "id": "hGk44XBFZ8_U"
      },
      "execution_count": null,
      "outputs": []
    },
    {
      "cell_type": "code",
      "source": [
        "teste_resampled = teste_resampled.resample('100ms').mean()"
      ],
      "metadata": {
        "id": "IUCo7h1IbE3Z"
      },
      "execution_count": null,
      "outputs": []
    },
    {
      "cell_type": "markdown",
      "source": [
        "Os dados são fornecidos em \"g\". Aqui, há a conversão para m/s²"
      ],
      "metadata": {
        "id": "dyYHu863qRmt"
      }
    },
    {
      "cell_type": "code",
      "source": [
        "g = 9.8\n",
        "teste_resampled_in_g = teste_resampled\n",
        "teste_resampled_in_g[['gFx', 'gFy', 'gFz']] = teste_resampled_in_g[['gFx', 'gFy', 'gFz']] * g"
      ],
      "metadata": {
        "id": "wB_0-OFHiXpP"
      },
      "execution_count": null,
      "outputs": []
    },
    {
      "cell_type": "markdown",
      "source": [
        "Aqui há o plot conjunto dos três valores do acelerômetro. Abaixo, uma visão separada"
      ],
      "metadata": {
        "id": "fjI72l5Iqf_a"
      }
    },
    {
      "cell_type": "code",
      "source": [
        "x = teste_resampled_in_g.index\n",
        "y_in_x = teste_resampled_in_g.gFx\n",
        "y_in_y = teste_resampled_in_g.gFy\n",
        "y_in_z = teste_resampled_in_g.gFz\n",
        "plt.plot(x, y_in_x)\n",
        "plt.plot(x, y_in_y)\n",
        "plt.plot(x, y_in_z)"
      ],
      "metadata": {
        "colab": {
          "base_uri": "https://localhost:8080/",
          "height": 282
        },
        "id": "F0-J_F41jXu2",
        "outputId": "9af3c059-3380-4435-d7a0-b20388582e7f"
      },
      "execution_count": null,
      "outputs": [
        {
          "output_type": "execute_result",
          "data": {
            "text/plain": [
              "[<matplotlib.lines.Line2D at 0x7f7e9c5e8280>]"
            ]
          },
          "metadata": {},
          "execution_count": 173
        },
        {
          "output_type": "display_data",
          "data": {
            "text/plain": [
              "<Figure size 432x288 with 1 Axes>"
            ],
            "image/png": "[encoded data removed]"
          },
          "metadata": {
            "needs_background": "light"
          }
        }
      ]
    },
    {
      "cell_type": "code",
      "source": [
        "fig, axs = plt.subplots(1, 3, figsize=(12, 4))\n",
        "axs[0].plot(x, y_in_x)\n",
        "axs[0].set_title('Accelerometer in x')\n",
        "axs[0].set_xlabel('Time (100ms)')\n",
        "axs[0].set_ylabel('gFx')\n",
        "axs[1].plot(x, y_in_y)\n",
        "axs[1].set_title('Accelerometer in y')\n",
        "axs[1].set_xlabel('Time (100ms)')\n",
        "axs[1].set_ylabel('gFy')\n",
        "axs[2].plot(x, y_in_z)\n",
        "axs[2].set_title('Accelerometer in z')\n",
        "axs[2].set_xlabel('Time (100ms)')\n",
        "axs[2].set_ylabel('gFz')\n",
        "fig.tight_layout()"
      ],
      "metadata": {
        "colab": {
          "base_uri": "https://localhost:8080/",
          "height": 297
        },
        "id": "QLW6KfKyl3dX",
        "outputId": "23fb8466-51a8-4e7a-cd70-4984d00e2174"
      },
      "execution_count": null,
      "outputs": [
        {
          "output_type": "display_data",
          "data": {
            "text/plain": [
              "<Figure size 864x288 with 3 Axes>"
            ],
            "image/png": "[encoded data removed]"
          },
          "metadata": {
            "needs_background": "light"
          }
        }
      ]
    }
  ]
}